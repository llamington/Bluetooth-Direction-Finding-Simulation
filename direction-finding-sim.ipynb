{
 "cells": [
  {
   "cell_type": "markdown",
   "metadata": {},
   "source": [
    "https://github.com/vslobody/MUSIC/blob/master/music.py"
   ]
  },
  {
   "cell_type": "code",
   "execution_count": 2,
   "metadata": {},
   "outputs": [],
   "source": [
    "import numpy as np\n",
    "from scipy.constants import speed_of_light\n",
    "import matplotlib.pyplot as plt\n"
   ]
  },
  {
   "cell_type": "code",
   "execution_count": 3,
   "metadata": {},
   "outputs": [],
   "source": [
    "INCIDENT_ANGLE = 60  # incident signal angle in degrees\n",
    "ANTENNA_DISTANCE = 6e-3  # distance between antennas in m\n",
    "FREQUENCY_DEVIATION = 250e3\n",
    "NUM_ANTENNAS = 2\n",
    "BLUETOOTH_FREQUENCY = 2450e6  # Center frequency of Bluetooth channel in Hz\n",
    "CTE_FREQUENCY = BLUETOOTH_FREQUENCY + FREQUENCY_DEVIATION\n",
    "CTE_WAVELENGTH = speed_of_light / BLUETOOTH_FREQUENCY  # Bluetooth wavelength in m\n",
    "CTE_TIME = 160e-6\n"
   ]
  },
  {
   "cell_type": "code",
   "execution_count": 54,
   "metadata": {},
   "outputs": [],
   "source": [
    "def steering_vec(num_antennas: int, incident_angle: float) -> np.ndarray:\n",
    "    antennas = np.arange(0, num_antennas)\n",
    "    steering = np.exp(\n",
    "        2j\n",
    "        * np.pi\n",
    "        * ANTENNA_DISTANCE\n",
    "        * antennas\n",
    "        * np.sin(np.deg2rad(incident_angle))\n",
    "        / CTE_WAVELENGTH\n",
    "    ).reshape((-1, 1))\n",
    "    return steering\n",
    "\n",
    "\n",
    "steering = steering_vec(NUM_ANTENNAS, INCIDENT_ANGLE)\n"
   ]
  },
  {
   "cell_type": "code",
   "execution_count": 60,
   "metadata": {},
   "outputs": [
    {
     "data": {
      "text/plain": [
       "array([[0.49      +0.j        , 0.47266186-0.12919273j],\n",
       "       [0.47266186+0.12919273j, 0.49      +0.j        ]])"
      ]
     },
     "execution_count": 60,
     "metadata": {},
     "output_type": "execute_result"
    }
   ],
   "source": [
    "CTE_SAMPLES = 50\n",
    "\n",
    "def iq_sample(time: float) -> np.ndarray:\n",
    "    \"\"\"Generate an IQ sample for a given time\"\"\"\n",
    "\n",
    "    return np.sin(2 * np.pi * CTE_FREQUENCY * time) * steering\n",
    "\n",
    "\n",
    "sample_times = np.linspace(0, CTE_TIME, CTE_SAMPLES)\n",
    "sample_covariance = np.zeros(shape=(NUM_ANTENNAS, NUM_ANTENNAS), dtype=complex)\n",
    "for t in sample_times:\n",
    "    iq_sample_at_t = iq_sample(t)\n",
    "    sample_covariance += iq_sample_at_t @ iq_sample_at_t.conjugate().T\n",
    "sample_covariance /= CTE_SAMPLES\n",
    "\n",
    "cov_eigvals, cov_eigvecs = np.linalg.eig(sample_covariance)\n",
    "sample_covariance"
   ]
  },
  {
   "cell_type": "code",
   "execution_count": 59,
   "metadata": {},
   "outputs": [
    {
     "name": "stdout",
     "output_type": "stream",
     "text": [
      "[[1.76641131-5.55111512e-17j]]\n",
      "[[1.7664923+0.j]]\n",
      "[[1.76673508+0.j]]\n",
      "[[1.76713905+0.j]]\n",
      "[[1.76770322+5.55111512e-17j]]\n",
      "[[1.76842623+5.55111512e-17j]]\n",
      "[[1.7693063+5.55111512e-17j]]\n",
      "[[1.77034129+0.j]]\n",
      "[[1.77152867-5.55111512e-17j]]\n",
      "[[1.77286557+5.55111512e-17j]]\n",
      "[[1.77434871+0.j]]\n",
      "[[1.77597451+0.j]]\n",
      "[[1.77773901+5.55111512e-17j]]\n",
      "[[1.77963795+0.j]]\n",
      "[[1.78166673+5.55111512e-17j]]\n",
      "[[1.78382046+0.j]]\n",
      "[[1.78609395+0.j]]\n",
      "[[1.78848174+0.j]]\n",
      "[[1.79097811+0.j]]\n",
      "[[1.79357712+2.77555756e-17j]]\n",
      "[[1.79627256+2.77555756e-17j]]\n",
      "[[1.79905807+0.j]]\n",
      "[[1.80192706-2.77555756e-17j]]\n",
      "[[1.80487279-2.77555756e-17j]]\n",
      "[[1.8078884+0.j]]\n",
      "[[1.81096686-2.77555756e-17j]]\n",
      "[[1.81410109+0.j]]\n",
      "[[1.81728389-2.77555756e-17j]]\n",
      "[[1.82050802+2.77555756e-17j]]\n",
      "[[1.82376623+0.j]]\n",
      "[[1.82705121+0.j]]\n",
      "[[1.83035571+0.j]]\n",
      "[[1.8336725+0.j]]\n",
      "[[1.83699441+0.j]]\n",
      "[[1.84031435+0.j]]\n",
      "[[1.84362534+2.77555756e-17j]]\n",
      "[[1.84692054+0.j]]\n",
      "[[1.85019325+2.77555756e-17j]]\n",
      "[[1.85343694+0.j]]\n",
      "[[1.85664529-1.38777878e-17j]]\n",
      "[[1.85981217+1.38777878e-17j]]\n",
      "[[1.86293171-1.38777878e-17j]]\n",
      "[[1.86599828-1.38777878e-17j]]\n",
      "[[1.86900651+6.9388939e-18j]]\n",
      "[[1.87195133-1.38777878e-17j]]\n",
      "[[1.87482796+0.j]]\n",
      "[[1.87763195-6.9388939e-18j]]\n",
      "[[1.88035916+0.j]]\n",
      "[[1.88300581-2.42861287e-17j]]\n",
      "[[1.88556843-1.04083409e-17j]]\n",
      "[[1.88804394+1.21430643e-17j]]\n",
      "[[1.89042962-1.04083409e-17j]]\n",
      "[[1.89272309-1.38777878e-17j]]\n",
      "[[1.89492238-6.9388939e-18j]]\n",
      "[[1.89702585-6.9388939e-18j]]\n",
      "[[1.89903226-2.08166817e-17j]]\n",
      "[[1.90094074+0.j]]\n",
      "[[1.90275078-1.38777878e-17j]]\n",
      "[[1.90446222-1.38777878e-17j]]\n",
      "[[1.90607528+1.38777878e-17j]]\n",
      "[[1.90759051+0.j]]\n",
      "[[1.90900881+0.j]]\n",
      "[[1.91033141-1.38777878e-17j]]\n",
      "[[1.91155983-1.38777878e-17j]]\n",
      "[[1.91269592-2.77555756e-17j]]\n",
      "[[1.91374181-2.77555756e-17j]]\n",
      "[[1.91469989-2.77555756e-17j]]\n",
      "[[1.91557282+0.j]]\n",
      "[[1.91636348+0.j]]\n",
      "[[1.91707496+0.j]]\n",
      "[[1.91771058+0.j]]\n",
      "[[1.91827381-2.77555756e-17j]]\n",
      "[[1.91876828+0.j]]\n",
      "[[1.91919775+0.j]]\n",
      "[[1.9195661+2.77555756e-17j]]\n",
      "[[1.9198773+0.j]]\n",
      "[[1.92013537+0.j]]\n",
      "[[1.92034441+0.j]]\n",
      "[[1.9205085+2.77555756e-17j]]\n",
      "[[1.92063176+0.j]]\n",
      "[[1.92071826+0.j]]\n",
      "[[1.92077203+0.j]]\n",
      "[[1.92079705+0.j]]\n",
      "[[1.92079721+0.j]]\n",
      "[[1.92077628+0.j]]\n",
      "[[1.92073793-5.55111512e-17j]]\n",
      "[[1.92068567+0.j]]\n",
      "[[1.92062285-5.55111512e-17j]]\n",
      "[[1.92055265+0.j]]\n",
      "[[1.92047805+0.j]]\n",
      "[[1.92040183+0.j]]\n",
      "[[1.92032654+0.j]]\n",
      "[[1.92025449+0.j]]\n",
      "[[1.92018776-5.55111512e-17j]]\n",
      "[[1.92012817+0.j]]\n",
      "[[1.92007727+0.j]]\n",
      "[[1.92003634+0.j]]\n",
      "[[1.92000639+5.55111512e-17j]]\n",
      "[[1.91998813+0.j]]\n",
      "[[1.91998199+0.j]]\n"
     ]
    }
   ],
   "source": [
    "NUM_ANGLES_TO_TEST = 100\n",
    "\n",
    "cov_eig_desc_sort_idx = cov_eigvals.argsort()[::-1]\n",
    "cov_eigvals_desc = cov_eigvals[cov_eig_desc_sort_idx]\n",
    "cov_eigvecs_desc = cov_eigvecs[:, cov_eig_desc_sort_idx]\n",
    "\n",
    "signal_power = np.ndarray(shape=(NUM_ANGLES_TO_TEST,))\n",
    "angles_to_test = np.linspace(-90, 90, NUM_ANGLES_TO_TEST)\n",
    "\n",
    "for idx, angle in enumerate(angles_to_test):\n",
    "    steering_at_test_angle = steering_vec(NUM_ANTENNAS, angle)\n",
    "    signal_power[idx] = steering_at_test_angle.conjugate().T @ (sample_covariance @ sample_covariance.conjugate().T) @ steering_at_test_angle\n",
    "    \n",
    "\n",
    "fig, ax = plt.subplots()\n",
    "ax.plot(angles_to_test, steeri)\n",
    "\n"
   ]
  }
 ],
 "metadata": {
  "kernelspec": {
   "display_name": "Python 3.9.12 ('venv': venv)",
   "language": "python",
   "name": "python3"
  },
  "language_info": {
   "codemirror_mode": {
    "name": "ipython",
    "version": 3
   },
   "file_extension": ".py",
   "mimetype": "text/x-python",
   "name": "python",
   "nbconvert_exporter": "python",
   "pygments_lexer": "ipython3",
   "version": "3.9.12"
  },
  "orig_nbformat": 4,
  "vscode": {
   "interpreter": {
    "hash": "f6302f2b435fcd2fbf16e20718a5eac0363e712eb65131d09ad595600064fbce"
   }
  }
 },
 "nbformat": 4,
 "nbformat_minor": 2
}
