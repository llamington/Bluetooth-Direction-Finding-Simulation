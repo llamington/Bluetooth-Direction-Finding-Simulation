{
 "cells": [
  {
   "cell_type": "markdown",
   "metadata": {},
   "source": [
    "https://github.com/vslobody/MUSIC/blob/master/music.py\n",
    "https://github.com/dengjunquan/DoA-Estimation-MUSIC-ESPRIT\n"
   ]
  },
  {
   "cell_type": "code",
   "execution_count": 310,
   "metadata": {},
   "outputs": [],
   "source": [
    "%matplotlib inline"
   ]
  },
  {
   "cell_type": "code",
   "execution_count": 311,
   "metadata": {},
   "outputs": [],
   "source": [
    "import numpy as np\n",
    "from scipy.constants import speed_of_light\n",
    "from scipy.signal import find_peaks\n",
    "import matplotlib.pyplot as plt\n",
    "from typing import Tuple\n",
    "import ipywidgets as widgets\n"
   ]
  },
  {
   "cell_type": "code",
   "execution_count": 312,
   "metadata": {},
   "outputs": [],
   "source": [
    "FREQUENCY_DEVIATION = 250e3\n",
    "BLUETOOTH_FREQUENCY = 2450e6  # Center frequency of Bluetooth channel in Hz\n",
    "CTE_FREQUENCY = BLUETOOTH_FREQUENCY + FREQUENCY_DEVIATION\n",
    "CTE_WAVELENGTH = speed_of_light / CTE_FREQUENCY  # Bluetooth wavelength in m\n",
    "CTE_TIME = 160e-6  # Constant Tone Extension time\n",
    "CTE_SAMPLES = 50\n",
    "NUM_SOURCES = 1\n",
    "NUM_ANGLES_TO_SEARCH = 360\n",
    "MAX_SEARCH_ANGLE = 90\n"
   ]
  },
  {
   "cell_type": "code",
   "execution_count": 313,
   "metadata": {},
   "outputs": [],
   "source": [
    "np.random.seed(0)\n",
    "plt.style.use(\"seaborn\")\n"
   ]
  },
  {
   "cell_type": "code",
   "execution_count": 314,
   "metadata": {},
   "outputs": [],
   "source": [
    "def response_vec(\n",
    "    num_antennas: int, incident_angle: float, antenna_spacing: float\n",
    ") -> np.ndarray:\n",
    "    \"\"\"Expected antenna array response column vector of IQ values, not accounting for noise\"\"\"\n",
    "    antennas = np.arange(0, num_antennas) * antenna_spacing\n",
    "    steering = np.exp(\n",
    "        2j * np.pi * antennas * np.sin(np.deg2rad(incident_angle)) / CTE_WAVELENGTH\n",
    "    ).reshape((-1, 1))\n",
    "    return steering\n"
   ]
  },
  {
   "cell_type": "code",
   "execution_count": 315,
   "metadata": {},
   "outputs": [],
   "source": [
    "def sample_cov(antenna_response: np.ndarray, snr: float) -> np.ndarray:\n",
    "    \"\"\"Returns the sample covariance matrix for the given antenna response\"\"\"\n",
    "    sample_times = np.linspace(0, CTE_TIME, CTE_SAMPLES)\n",
    "    num_antennas = antenna_response.size\n",
    "\n",
    "    cov = np.zeros(shape=(num_antennas, num_antennas), dtype=complex)\n",
    "    for t in sample_times:\n",
    "        iq_sample_at_t = antenna_response + np.sqrt(0.5 / snr) * np.random.randn(\n",
    "            num_antennas\n",
    "        )\n",
    "        cov += iq_sample_at_t @ iq_sample_at_t.conjugate().T\n",
    "    cov /= CTE_SAMPLES\n",
    "\n",
    "    return cov\n"
   ]
  },
  {
   "cell_type": "code",
   "execution_count": 316,
   "metadata": {},
   "outputs": [],
   "source": [
    "def music(\n",
    "    covariance: np.ndarray, antenna_spacing: float\n",
    ") -> Tuple[np.ndarray, np.ndarray]:\n",
    "    \"\"\"Perform the MUSIC algorithm for the given covariance matrix.\n",
    "    Returns the angles searched, with their corresponding power\"\"\"\n",
    "    num_antennas = covariance.shape[0]\n",
    "    _, cov_eigvecs = np.linalg.eig(covariance)\n",
    "    non_noise_cov_eigvecs = cov_eigvecs[:, NUM_SOURCES:num_antennas]\n",
    "    search_angles = np.linspace(\n",
    "        -MAX_SEARCH_ANGLE, MAX_SEARCH_ANGLE, NUM_ANGLES_TO_SEARCH\n",
    "    )\n",
    "\n",
    "    signal_powers = np.ndarray(shape=(NUM_ANGLES_TO_SEARCH,), dtype=complex)\n",
    "    for idx, angle in enumerate(search_angles):\n",
    "        steering_at_test_angle = response_vec(num_antennas, angle, antenna_spacing)\n",
    "        signal_powers[idx] = (\n",
    "            1\n",
    "            / (\n",
    "                steering_at_test_angle.conjugate().T\n",
    "                @ non_noise_cov_eigvecs\n",
    "                @ non_noise_cov_eigvecs.conjugate().T\n",
    "                @ steering_at_test_angle\n",
    "            )\n",
    "        ).item()\n",
    "\n",
    "    return search_angles, signal_powers\n"
   ]
  },
  {
   "cell_type": "code",
   "execution_count": 317,
   "metadata": {},
   "outputs": [],
   "source": [
    "def draw_pseudo_spectrum(num_antennas, incident_angle, snr, antenna_spacing) -> None:\n",
    "    \"\"\"Draws the pseudo-spectrum for Bluetooth direction finding\"\"\"\n",
    "    antenna_spacing /= 100  # convert to cm\n",
    "    antenna_response = response_vec(num_antennas, incident_angle, antenna_spacing)\n",
    "    sample_covariance = sample_cov(antenna_response, snr)\n",
    "    search_angles, signal_powers = music(sample_covariance, antenna_spacing)\n",
    "    signal_powers = signal_powers.real\n",
    "    fig, ax = plt.subplots()\n",
    "\n",
    "    peaks, _ = find_peaks(signal_powers, height=1)\n",
    "    for peak in peaks:\n",
    "        ax.axvline(search_angles[peak], ls=\"--\", color=\"r\")\n",
    "    ax.semilogy(search_angles, signal_powers)\n"
   ]
  },
  {
   "cell_type": "code",
   "execution_count": 318,
   "metadata": {},
   "outputs": [
    {
     "data": {
      "application/vnd.jupyter.widget-view+json": {
       "model_id": "f13c2ce95e994a379f64ec1bb03d31bc",
       "version_major": 2,
       "version_minor": 0
      },
      "text/plain": [
       "interactive(children=(BoundedIntText(value=5, description='Antennas:', min=2), IntSlider(value=60, description…"
      ]
     },
     "execution_count": 318,
     "metadata": {},
     "output_type": "execute_result"
    }
   ],
   "source": [
    "widget_style = {\"description_width\": \"initial\"}\n",
    "num_antennas_input = widgets.BoundedIntText(value=5, min=2, description=\"Antennas:\")\n",
    "incident_input = widgets.IntSlider(\n",
    "    value=60, min=-90, max=90, description=\"Incident angle (°):\", style=widget_style\n",
    ")\n",
    "snr_input = widgets.FloatSlider(\n",
    "    value=2.5, min=0.1, max=5, description=\"Signal-to-noise ratio\", style=widget_style\n",
    ")\n",
    "antenna_spacing_input = widgets.FloatSlider(\n",
    "    value=6, min=0.1, max=20, description=\"Antenna spacing (cm):\", style=widget_style\n",
    ")\n",
    "\n",
    "\n",
    "interactive_plot = widgets.interactive(\n",
    "    draw_pseudo_spectrum,\n",
    "    num_antennas=num_antennas_input,\n",
    "    incident_angle=incident_input,\n",
    "    snr=snr_input,\n",
    "    antenna_spacing=antenna_spacing_input,\n",
    ")\n",
    "interactive_plot.children[-1].layout.height = \"500px\"\n",
    "interactive_plot\n"
   ]
  }
 ],
 "metadata": {
  "kernelspec": {
   "display_name": "Python 3.9.12 ('venv': venv)",
   "language": "python",
   "name": "python3"
  },
  "language_info": {
   "codemirror_mode": {
    "name": "ipython",
    "version": 3
   },
   "file_extension": ".py",
   "mimetype": "text/x-python",
   "name": "python",
   "nbconvert_exporter": "python",
   "pygments_lexer": "ipython3",
   "version": "3.9.12"
  },
  "orig_nbformat": 4,
  "vscode": {
   "interpreter": {
    "hash": "f6302f2b435fcd2fbf16e20718a5eac0363e712eb65131d09ad595600064fbce"
   }
  }
 },
 "nbformat": 4,
 "nbformat_minor": 2
}
