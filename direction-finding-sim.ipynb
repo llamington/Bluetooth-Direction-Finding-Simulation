{
 "cells": [
  {
   "cell_type": "markdown",
   "metadata": {},
   "source": [
    "https://github.com/vslobody/MUSIC/blob/master/music.py\n",
    "https://github.com/dengjunquan/DoA-Estimation-MUSIC-ESPRIT\n"
   ]
  },
  {
   "cell_type": "code",
   "execution_count": 1,
   "metadata": {},
   "outputs": [],
   "source": [
    "%matplotlib inline"
   ]
  },
  {
   "cell_type": "code",
   "execution_count": 2,
   "metadata": {},
   "outputs": [],
   "source": [
    "import numpy as np\n",
    "from scipy.constants import speed_of_light\n",
    "import matplotlib.pyplot as plt\n",
    "from typing import Tuple\n",
    "from ipywidgets import interact, BoundedIntText\n"
   ]
  },
  {
   "cell_type": "code",
   "execution_count": 3,
   "metadata": {},
   "outputs": [],
   "source": [
    "INCIDENT_ANGLE = -50  # incident signal angle in degrees\n",
    "ANTENNA_DISTANCE = 6e-2  # distance between antennas in m\n",
    "FREQUENCY_DEVIATION = 250e3\n",
    "NUM_ANTENNAS = 2\n",
    "BLUETOOTH_FREQUENCY = 2450e6  # Center frequency of Bluetooth channel in Hz\n",
    "CTE_FREQUENCY = BLUETOOTH_FREQUENCY + FREQUENCY_DEVIATION\n",
    "CTE_WAVELENGTH = speed_of_light / CTE_FREQUENCY  # Bluetooth wavelength in m\n",
    "CTE_TIME = 160e-6  # Constant Tone Extension time\n",
    "CTE_SAMPLES = 50\n",
    "NUM_SOURCES = 1\n",
    "NUM_ANGLES_TO_SEARCH = 360\n",
    "MAX_SEARCH_ANGLE = 90\n",
    "SNR = 10\n"
   ]
  },
  {
   "cell_type": "code",
   "execution_count": 4,
   "metadata": {},
   "outputs": [],
   "source": [
    "def response_vec(num_antennas: int, incident_angle: float) -> np.ndarray:\n",
    "    \"\"\"Expected antenna array response column vector of IQ values, not accounting for noise\"\"\"\n",
    "    antennas = np.arange(0, num_antennas) * ANTENNA_DISTANCE\n",
    "    steering = np.exp(\n",
    "        2j * np.pi * antennas * np.sin(np.deg2rad(incident_angle)) / CTE_WAVELENGTH\n",
    "    ).reshape((-1, 1))\n",
    "    return steering\n"
   ]
  },
  {
   "cell_type": "code",
   "execution_count": 5,
   "metadata": {},
   "outputs": [],
   "source": [
    "def sample_cov(antenna_response: np.ndarray) -> np.ndarray:\n",
    "    \"\"\"Returns the sample covariance matrix for the given antenna response\"\"\"\n",
    "    sample_times = np.linspace(0, CTE_TIME, CTE_SAMPLES)\n",
    "    num_antennas = antenna_response.size\n",
    "\n",
    "    cov = np.zeros(shape=(num_antennas, num_antennas), dtype=complex)\n",
    "    for t in sample_times:\n",
    "        iq_sample_at_t = antenna_response + np.sqrt(0.5 / SNR) * np.random.randn(\n",
    "            num_antennas\n",
    "        )\n",
    "        cov += iq_sample_at_t @ iq_sample_at_t.conjugate().T\n",
    "    cov /= CTE_SAMPLES\n",
    "\n",
    "    return cov\n"
   ]
  },
  {
   "cell_type": "code",
   "execution_count": 6,
   "metadata": {},
   "outputs": [],
   "source": [
    "def music(covariance: np.ndarray) -> Tuple[np.ndarray, np.ndarray]:\n",
    "    \"\"\"Perform the MUSIC algorithm for the given covariance matrix.\n",
    "    Returns the angles searched, with their corresponding power\"\"\"\n",
    "    num_antennas = covariance.shape[0]\n",
    "    _, cov_eigvecs = np.linalg.eig(covariance)\n",
    "    non_noise_cov_eigvecs = cov_eigvecs[:, NUM_SOURCES:num_antennas]\n",
    "    search_angles = np.linspace(\n",
    "        -MAX_SEARCH_ANGLE, MAX_SEARCH_ANGLE, NUM_ANGLES_TO_SEARCH\n",
    "    )\n",
    "\n",
    "    signal_powers = np.ndarray(shape=(NUM_ANGLES_TO_SEARCH,), dtype=complex)\n",
    "    for idx, angle in enumerate(search_angles):\n",
    "        steering_at_test_angle = response_vec(num_antennas, angle)\n",
    "        signal_powers[idx] = (\n",
    "            1\n",
    "            / (\n",
    "                steering_at_test_angle.conjugate().T\n",
    "                @ non_noise_cov_eigvecs\n",
    "                @ non_noise_cov_eigvecs.conjugate().T\n",
    "                @ steering_at_test_angle\n",
    "            )\n",
    "        ).item()\n",
    "\n",
    "    return search_angles, signal_powers\n"
   ]
  },
  {
   "cell_type": "code",
   "execution_count": 7,
   "metadata": {},
   "outputs": [
    {
     "data": {
      "application/vnd.jupyter.widget-view+json": {
       "model_id": "7a7329daa1474a3281469442e3bf568e",
       "version_major": 2,
       "version_minor": 0
      },
      "text/plain": [
       "interactive(children=(BoundedIntText(value=5, description='Antennas:', min=2), Output()), _dom_classes=('widge…"
      ]
     },
     "metadata": {},
     "output_type": "display_data"
    }
   ],
   "source": [
    "np.random.seed(0)\n",
    "antennas_input = BoundedIntText(value=5, min=2, description=\"Antennas:\")\n",
    "\n",
    "\n",
    "@interact(num_antennas=antennas_input)\n",
    "def draw_pseudo_spectrum(num_antennas) -> None:\n",
    "    \"\"\"Draws the pseudo-spectrum for Bluetooth direction finding\"\"\"\n",
    "    antenna_response = response_vec(num_antennas, INCIDENT_ANGLE)\n",
    "    sample_covariance = sample_cov(antenna_response)\n",
    "    search_angles, signal_powers = music(sample_covariance)\n",
    "    fig, ax = plt.subplots()\n",
    "    ax.semilogy(search_angles, signal_powers)\n"
   ]
  }
 ],
 "metadata": {
  "kernelspec": {
   "display_name": "Python 3.9.12 ('venv': venv)",
   "language": "python",
   "name": "python3"
  },
  "language_info": {
   "codemirror_mode": {
    "name": "ipython",
    "version": 3
   },
   "file_extension": ".py",
   "mimetype": "text/x-python",
   "name": "python",
   "nbconvert_exporter": "python",
   "pygments_lexer": "ipython3",
   "version": "3.9.12"
  },
  "orig_nbformat": 4,
  "vscode": {
   "interpreter": {
    "hash": "f6302f2b435fcd2fbf16e20718a5eac0363e712eb65131d09ad595600064fbce"
   }
  }
 },
 "nbformat": 4,
 "nbformat_minor": 2
}
