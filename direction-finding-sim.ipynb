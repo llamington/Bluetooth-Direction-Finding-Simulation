{
 "cells": [
  {
   "cell_type": "markdown",
   "metadata": {},
   "source": [
    "https://github.com/vslobody/MUSIC/blob/master/music.py\n",
    "https://github.com/dengjunquan/DoA-Estimation-MUSIC-ESPRIT"
   ]
  },
  {
   "cell_type": "code",
   "execution_count": 37,
   "metadata": {},
   "outputs": [],
   "source": [
    "import numpy as np\n",
    "from scipy.constants import speed_of_light\n",
    "import matplotlib.pyplot as plt"
   ]
  },
  {
   "cell_type": "code",
   "execution_count": 38,
   "metadata": {},
   "outputs": [],
   "source": [
    "INCIDENT_ANGLE = -50  # incident signal angle in degrees\n",
    "ANTENNA_DISTANCE = 6e-2  # distance between antennas in m\n",
    "FREQUENCY_DEVIATION = 250e3\n",
    "NUM_ANTENNAS = 4\n",
    "BLUETOOTH_FREQUENCY = 2450e6  # Center frequency of Bluetooth channel in Hz\n",
    "CTE_FREQUENCY = BLUETOOTH_FREQUENCY + FREQUENCY_DEVIATION\n",
    "CTE_WAVELENGTH = speed_of_light / CTE_FREQUENCY  # Bluetooth wavelength in m\n",
    "CTE_TIME = 160e-6\n",
    "NUM_SOURCES = 1"
   ]
  },
  {
   "cell_type": "code",
   "execution_count": 39,
   "metadata": {},
   "outputs": [],
   "source": [
    "def response_vec(num_antennas: int, incident_angle: float) -> np.ndarray:\n",
    "    \"\"\"Antenna array response\"\"\"\n",
    "    antennas = np.arange(0, num_antennas) * ANTENNA_DISTANCE\n",
    "    steering = np.exp(\n",
    "        2j\n",
    "        * np.pi\n",
    "        * antennas\n",
    "        * np.sin(np.deg2rad(incident_angle))\n",
    "        / CTE_WAVELENGTH\n",
    "    ).reshape((-1, 1))\n",
    "    return steering\n",
    "\n",
    "antenna_response = response_vec(NUM_ANTENNAS, INCIDENT_ANGLE)"
   ]
  },
  {
   "cell_type": "code",
   "execution_count": 40,
   "metadata": {},
   "outputs": [],
   "source": [
    "CTE_SAMPLES = 50\n",
    "\n",
    "sample_times = np.linspace(0, CTE_TIME, CTE_SAMPLES)\n",
    "sample_covariance = np.zeros(shape=(NUM_ANTENNAS, NUM_ANTENNAS), dtype=complex)\n",
    "for t in sample_times:\n",
    "    iq_sample_at_t = antenna_response\n",
    "    sample_covariance += iq_sample_at_t @ iq_sample_at_t.conjugate().T\n",
    "sample_covariance /= CTE_SAMPLES\n",
    "\n",
    "_, cov_eigvecs = np.linalg.eig(sample_covariance)\n",
    "non_noise_cov_eigvecs = cov_eigvecs[:,NUM_SOURCES:NUM_ANTENNAS]\n",
    "np.save(\"cov.npy\", sample_covariance)"
   ]
  },
  {
   "cell_type": "code",
   "execution_count": 42,
   "metadata": {},
   "outputs": [
    {
     "name": "stderr",
     "output_type": "stream",
     "text": [
      "/usr/src/ENEL300-Bluetooth-Direction-Finding/venv/lib/python3.9/site-packages/matplotlib/cbook/__init__.py:1298: ComplexWarning: Casting complex values to real discards the imaginary part\n",
      "  return np.asarray(x, float)\n"
     ]
    },
    {
     "data": {
      "image/png": "[encoded data removed]",
      "text/plain": [
       "<Figure size 640x480 with 1 Axes>"
      ]
     },
     "metadata": {},
     "output_type": "display_data"
    }
   ],
   "source": [
    "NUM_ANGLES_TO_TEST = 360\n",
    "\n",
    "# non_noise_cov_eig_idx = cov_eigvals.argsort()[NUM_SOURCES:NUM_ANTENNAS]\n",
    "# non_noise_cov_eigvecs = cov_eigvecs[:, non_noise_cov_eig_idx]\n",
    "\n",
    "signal_power = np.ndarray(shape=(NUM_ANGLES_TO_TEST,), dtype=complex)\n",
    "angles_to_test = np.linspace(-90, 90, NUM_ANGLES_TO_TEST)\n",
    "\n",
    "for idx, angle in enumerate(angles_to_test):\n",
    "    steering_at_test_angle = response_vec(NUM_ANTENNAS, angle)\n",
    "    signal_power[idx] = (\n",
    "        1\n",
    "        / (\n",
    "            steering_at_test_angle.conjugate().T\n",
    "            @ non_noise_cov_eigvecs\n",
    "            @ non_noise_cov_eigvecs.conjugate().T\n",
    "            @ steering_at_test_angle\n",
    "        )\n",
    "    ).item()\n",
    "\n",
    "\n",
    "signal_power\n",
    "fig, ax = plt.subplots()\n",
    "ax.semilogy(angles_to_test, signal_power);\n",
    "# ax.plot(angles_to_test, signal_power);\n"
   ]
  }
 ],
 "metadata": {
  "kernelspec": {
   "display_name": "Python 3.9.12 ('venv': venv)",
   "language": "python",
   "name": "python3"
  },
  "language_info": {
   "codemirror_mode": {
    "name": "ipython",
    "version": 3
   },
   "file_extension": ".py",
   "mimetype": "text/x-python",
   "name": "python",
   "nbconvert_exporter": "python",
   "pygments_lexer": "ipython3",
   "version": "3.9.12"
  },
  "orig_nbformat": 4,
  "vscode": {
   "interpreter": {
    "hash": "f6302f2b435fcd2fbf16e20718a5eac0363e712eb65131d09ad595600064fbce"
   }
  }
 },
 "nbformat": 4,
 "nbformat_minor": 2
}
