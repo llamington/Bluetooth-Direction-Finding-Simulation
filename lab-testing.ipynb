{
 "cells": [
  {
   "cell_type": "code",
   "execution_count": 91,
   "metadata": {},
   "outputs": [],
   "source": [
    "%matplotlib inline"
   ]
  },
  {
   "cell_type": "code",
   "execution_count": null,
   "metadata": {},
   "outputs": [],
   "source": [
    "import pandas as pd\n",
    "import numpy as np\n",
    "import matplotlib.pyplot as plt\n",
    "from scipy.interpolate import griddata\n",
    "from matplotlib.animation import FuncAnimation"
   ]
  },
  {
   "cell_type": "code",
   "execution_count": 93,
   "metadata": {},
   "outputs": [],
   "source": [
    "plt.style.use(\"seaborn\")"
   ]
  },
  {
   "cell_type": "code",
   "execution_count": 94,
   "metadata": {},
   "outputs": [
    {
     "data": {
      "text/html": [
       "<div>\n",
       "<style scoped>\n",
       "    .dataframe tbody tr th:only-of-type {\n",
       "        vertical-align: middle;\n",
       "    }\n",
       "\n",
       "    .dataframe tbody tr th {\n",
       "        vertical-align: top;\n",
       "    }\n",
       "\n",
       "    .dataframe thead th {\n",
       "        text-align: right;\n",
       "    }\n",
       "</style>\n",
       "<table border=\"1\" class=\"dataframe\">\n",
       "  <thead>\n",
       "    <tr style=\"text-align: right;\">\n",
       "      <th></th>\n",
       "      <th>x</th>\n",
       "      <th>y</th>\n",
       "      <th>z</th>\n",
       "      <th>measured_azimuth</th>\n",
       "      <th>measured_elevation</th>\n",
       "    </tr>\n",
       "  </thead>\n",
       "  <tbody>\n",
       "    <tr>\n",
       "      <th>0</th>\n",
       "      <td>0.00</td>\n",
       "      <td>0.00</td>\n",
       "      <td>0.0</td>\n",
       "      <td>-5</td>\n",
       "      <td>1</td>\n",
       "    </tr>\n",
       "    <tr>\n",
       "      <th>1</th>\n",
       "      <td>4.99</td>\n",
       "      <td>0.00</td>\n",
       "      <td>0.0</td>\n",
       "      <td>40</td>\n",
       "      <td>30</td>\n",
       "    </tr>\n",
       "    <tr>\n",
       "      <th>2</th>\n",
       "      <td>10.20</td>\n",
       "      <td>0.00</td>\n",
       "      <td>0.0</td>\n",
       "      <td>-50</td>\n",
       "      <td>0</td>\n",
       "    </tr>\n",
       "    <tr>\n",
       "      <th>3</th>\n",
       "      <td>13.30</td>\n",
       "      <td>0.00</td>\n",
       "      <td>0.0</td>\n",
       "      <td>-50</td>\n",
       "      <td>30</td>\n",
       "    </tr>\n",
       "    <tr>\n",
       "      <th>4</th>\n",
       "      <td>0.00</td>\n",
       "      <td>4.02</td>\n",
       "      <td>0.0</td>\n",
       "      <td>-5</td>\n",
       "      <td>-36</td>\n",
       "    </tr>\n",
       "  </tbody>\n",
       "</table>\n",
       "</div>"
      ],
      "text/plain": [
       "       x     y    z  measured_azimuth  measured_elevation\n",
       "0   0.00  0.00  0.0                -5                   1\n",
       "1   4.99  0.00  0.0                40                  30\n",
       "2  10.20  0.00  0.0               -50                   0\n",
       "3  13.30  0.00  0.0               -50                  30\n",
       "4   0.00  4.02  0.0                -5                 -36"
      ]
     },
     "execution_count": 94,
     "metadata": {},
     "output_type": "execute_result"
    }
   ],
   "source": [
    "lab_results = pd.read_csv(\"bt_dir_finding_lab_results.csv\")\n",
    "lab_results.head()"
   ]
  },
  {
   "cell_type": "code",
   "execution_count": 95,
   "metadata": {},
   "outputs": [
    {
     "data": {
      "text/html": [
       "<div>\n",
       "<style scoped>\n",
       "    .dataframe tbody tr th:only-of-type {\n",
       "        vertical-align: middle;\n",
       "    }\n",
       "\n",
       "    .dataframe tbody tr th {\n",
       "        vertical-align: top;\n",
       "    }\n",
       "\n",
       "    .dataframe thead th {\n",
       "        text-align: right;\n",
       "    }\n",
       "</style>\n",
       "<table border=\"1\" class=\"dataframe\">\n",
       "  <thead>\n",
       "    <tr style=\"text-align: right;\">\n",
       "      <th></th>\n",
       "      <th>x</th>\n",
       "      <th>y</th>\n",
       "      <th>z</th>\n",
       "      <th>measured_azimuth</th>\n",
       "      <th>measured_elevation</th>\n",
       "      <th>expected_azimuth</th>\n",
       "      <th>expected_elevation</th>\n",
       "    </tr>\n",
       "  </thead>\n",
       "  <tbody>\n",
       "    <tr>\n",
       "      <th>0</th>\n",
       "      <td>0.00</td>\n",
       "      <td>0.00</td>\n",
       "      <td>0.0</td>\n",
       "      <td>-5</td>\n",
       "      <td>1</td>\n",
       "      <td>0.0</td>\n",
       "      <td>0.0</td>\n",
       "    </tr>\n",
       "    <tr>\n",
       "      <th>1</th>\n",
       "      <td>4.99</td>\n",
       "      <td>0.00</td>\n",
       "      <td>0.0</td>\n",
       "      <td>40</td>\n",
       "      <td>30</td>\n",
       "      <td>90.0</td>\n",
       "      <td>0.0</td>\n",
       "    </tr>\n",
       "    <tr>\n",
       "      <th>2</th>\n",
       "      <td>10.20</td>\n",
       "      <td>0.00</td>\n",
       "      <td>0.0</td>\n",
       "      <td>-50</td>\n",
       "      <td>0</td>\n",
       "      <td>90.0</td>\n",
       "      <td>0.0</td>\n",
       "    </tr>\n",
       "    <tr>\n",
       "      <th>3</th>\n",
       "      <td>13.30</td>\n",
       "      <td>0.00</td>\n",
       "      <td>0.0</td>\n",
       "      <td>-50</td>\n",
       "      <td>30</td>\n",
       "      <td>90.0</td>\n",
       "      <td>0.0</td>\n",
       "    </tr>\n",
       "    <tr>\n",
       "      <th>4</th>\n",
       "      <td>0.00</td>\n",
       "      <td>4.02</td>\n",
       "      <td>0.0</td>\n",
       "      <td>-5</td>\n",
       "      <td>-36</td>\n",
       "      <td>0.0</td>\n",
       "      <td>0.0</td>\n",
       "    </tr>\n",
       "  </tbody>\n",
       "</table>\n",
       "</div>"
      ],
      "text/plain": [
       "       x     y    z  measured_azimuth  measured_elevation  expected_azimuth  \\\n",
       "0   0.00  0.00  0.0                -5                   1               0.0   \n",
       "1   4.99  0.00  0.0                40                  30              90.0   \n",
       "2  10.20  0.00  0.0               -50                   0              90.0   \n",
       "3  13.30  0.00  0.0               -50                  30              90.0   \n",
       "4   0.00  4.02  0.0                -5                 -36               0.0   \n",
       "\n",
       "   expected_elevation  \n",
       "0                 0.0  \n",
       "1                 0.0  \n",
       "2                 0.0  \n",
       "3                 0.0  \n",
       "4                 0.0  "
      ]
     },
     "execution_count": 95,
     "metadata": {},
     "output_type": "execute_result"
    }
   ],
   "source": [
    "lab_results[\"expected_azimuth\"] = np.rad2deg(\n",
    "    np.arctan2(lab_results[\"x\"], lab_results[\"y\"])\n",
    ")\n",
    "lab_results[\"expected_elevation\"] = np.rad2deg(\n",
    "    np.arctan2(lab_results[\"z\"], np.sqrt(lab_results[\"x\"] ** 2 + lab_results[\"y\"] ** 2))\n",
    ")\n",
    "lab_results.head()"
   ]
  },
  {
   "cell_type": "code",
   "execution_count": 96,
   "metadata": {},
   "outputs": [
    {
     "data": {
      "text/html": [
       "<div>\n",
       "<style scoped>\n",
       "    .dataframe tbody tr th:only-of-type {\n",
       "        vertical-align: middle;\n",
       "    }\n",
       "\n",
       "    .dataframe tbody tr th {\n",
       "        vertical-align: top;\n",
       "    }\n",
       "\n",
       "    .dataframe thead th {\n",
       "        text-align: right;\n",
       "    }\n",
       "</style>\n",
       "<table border=\"1\" class=\"dataframe\">\n",
       "  <thead>\n",
       "    <tr style=\"text-align: right;\">\n",
       "      <th></th>\n",
       "      <th>x</th>\n",
       "      <th>y</th>\n",
       "      <th>z</th>\n",
       "      <th>measured_azimuth</th>\n",
       "      <th>measured_elevation</th>\n",
       "      <th>expected_azimuth</th>\n",
       "      <th>expected_elevation</th>\n",
       "      <th>azimuth_delta</th>\n",
       "      <th>elevation_delta</th>\n",
       "    </tr>\n",
       "  </thead>\n",
       "  <tbody>\n",
       "    <tr>\n",
       "      <th>0</th>\n",
       "      <td>0.00</td>\n",
       "      <td>0.00</td>\n",
       "      <td>0.0</td>\n",
       "      <td>-5</td>\n",
       "      <td>1</td>\n",
       "      <td>0.0</td>\n",
       "      <td>0.0</td>\n",
       "      <td>5.0</td>\n",
       "      <td>1.0</td>\n",
       "    </tr>\n",
       "    <tr>\n",
       "      <th>1</th>\n",
       "      <td>4.99</td>\n",
       "      <td>0.00</td>\n",
       "      <td>0.0</td>\n",
       "      <td>40</td>\n",
       "      <td>30</td>\n",
       "      <td>90.0</td>\n",
       "      <td>0.0</td>\n",
       "      <td>50.0</td>\n",
       "      <td>30.0</td>\n",
       "    </tr>\n",
       "    <tr>\n",
       "      <th>2</th>\n",
       "      <td>10.20</td>\n",
       "      <td>0.00</td>\n",
       "      <td>0.0</td>\n",
       "      <td>-50</td>\n",
       "      <td>0</td>\n",
       "      <td>90.0</td>\n",
       "      <td>0.0</td>\n",
       "      <td>140.0</td>\n",
       "      <td>0.0</td>\n",
       "    </tr>\n",
       "    <tr>\n",
       "      <th>3</th>\n",
       "      <td>13.30</td>\n",
       "      <td>0.00</td>\n",
       "      <td>0.0</td>\n",
       "      <td>-50</td>\n",
       "      <td>30</td>\n",
       "      <td>90.0</td>\n",
       "      <td>0.0</td>\n",
       "      <td>140.0</td>\n",
       "      <td>30.0</td>\n",
       "    </tr>\n",
       "    <tr>\n",
       "      <th>4</th>\n",
       "      <td>0.00</td>\n",
       "      <td>4.02</td>\n",
       "      <td>0.0</td>\n",
       "      <td>-5</td>\n",
       "      <td>-36</td>\n",
       "      <td>0.0</td>\n",
       "      <td>0.0</td>\n",
       "      <td>5.0</td>\n",
       "      <td>36.0</td>\n",
       "    </tr>\n",
       "  </tbody>\n",
       "</table>\n",
       "</div>"
      ],
      "text/plain": [
       "       x     y    z  measured_azimuth  measured_elevation  expected_azimuth  \\\n",
       "0   0.00  0.00  0.0                -5                   1               0.0   \n",
       "1   4.99  0.00  0.0                40                  30              90.0   \n",
       "2  10.20  0.00  0.0               -50                   0              90.0   \n",
       "3  13.30  0.00  0.0               -50                  30              90.0   \n",
       "4   0.00  4.02  0.0                -5                 -36               0.0   \n",
       "\n",
       "   expected_elevation  azimuth_delta  elevation_delta  \n",
       "0                 0.0            5.0              1.0  \n",
       "1                 0.0           50.0             30.0  \n",
       "2                 0.0          140.0              0.0  \n",
       "3                 0.0          140.0             30.0  \n",
       "4                 0.0            5.0             36.0  "
      ]
     },
     "execution_count": 96,
     "metadata": {},
     "output_type": "execute_result"
    }
   ],
   "source": [
    "lab_results[\"azimuth_delta\"] = np.abs(\n",
    "    lab_results[\"expected_azimuth\"] - lab_results[\"measured_azimuth\"]\n",
    ")\n",
    "lab_results[\"elevation_delta\"] = np.abs(\n",
    "    lab_results[\"expected_elevation\"] - lab_results[\"measured_elevation\"]\n",
    ")\n",
    "lab_results.head()"
   ]
  },
  {
   "cell_type": "markdown",
   "metadata": {},
   "source": [
    "Measured azimuth error"
   ]
  },
  {
   "cell_type": "code",
   "execution_count": 100,
   "metadata": {},
   "outputs": [
    {
     "data": {
      "image/png": "[encoded data removed]",
      "text/plain": [
       "<Figure size 1400x500 with 3 Axes>"
      ]
     },
     "metadata": {},
     "output_type": "display_data"
    }
   ],
   "source": [
    "zeroed_target = lab_results[lab_results[\"z\"] == 0]\n",
    "elevated_target = lab_results[lab_results[\"z\"] == 5.3]\n",
    "\n",
    "\n",
    "fig, axs = plt.subplots(1, 2, sharey=True, figsize=(14, 5))\n",
    "for i, dataset in enumerate([zeroed_target, elevated_target]):\n",
    "    img = axs[i].scatter(\n",
    "        dataset[\"x\"],\n",
    "        dataset[\"y\"],\n",
    "        c=dataset[\"azimuth_delta\"],\n",
    "        vmin=0,\n",
    "        vmax=180,\n",
    "        cmap=\"viridis\"\n",
    "    )\n",
    "fig.colorbar(img, ax=axs);"
   ]
  },
  {
   "cell_type": "markdown",
   "metadata": {},
   "source": [
    "Measured elevation error"
   ]
  },
  {
   "cell_type": "code",
   "execution_count": 101,
   "metadata": {},
   "outputs": [
    {
     "data": {
      "text/plain": [
       "<matplotlib.colorbar.Colorbar at 0x7fb9ea3b3640>"
      ]
     },
     "execution_count": 101,
     "metadata": {},
     "output_type": "execute_result"
    },
    {
     "data": {
      "image/png": "[encoded data removed]",
      "text/plain": [
       "<Figure size 1400x500 with 3 Axes>"
      ]
     },
     "metadata": {},
     "output_type": "display_data"
    }
   ],
   "source": [
    "fig, axs = plt.subplots(1, 2, sharey=True, figsize=(14, 5))\n",
    "for i, dataset in enumerate([zeroed_target, elevated_target]):\n",
    "    points = dataset[[\"x\", \"y\"]]\n",
    "    x_max = dataset[\"x\"].max()\n",
    "    y_max = dataset[\"y\"].max()\n",
    "\n",
    "    grid_x, grid_y = np.mgrid[0:x_max:250j, 0:y_max:250j]\n",
    "    interpolated = griddata(\n",
    "        points, dataset[\"azimuth_delta\"], (grid_x, grid_y), method=\"cubic\"\n",
    "    )\n",
    "    img = axs[i].contourf(\n",
    "        interpolated.T,\n",
    "        vmin=0,\n",
    "        vmax=180,\n",
    "        extent=(0, x_max, 0, y_max),\n",
    "        origin=\"lower\",\n",
    "        cmap=\"viridis\",\n",
    "    )\n",
    "fig.colorbar(img, ax=axs)\n"
   ]
  },
  {
   "cell_type": "code",
   "execution_count": 140,
   "metadata": {},
   "outputs": [
    {
     "data": {
      "image/png": "[encoded data removed]",
      "text/plain": [
       "<Figure size 800x550 with 2 Axes>"
      ]
     },
     "metadata": {},
     "output_type": "display_data"
    }
   ],
   "source": [
    "points = lab_results[[\"x\", \"y\", \"z\"]]\n",
    "\n",
    "x_max = lab_results[\"x\"].max()\n",
    "y_max = lab_results[\"y\"].max()\n",
    "z_max = lab_results[\"z\"].max()\n",
    "\n",
    "xs = np.linspace(0, x_max, 250)\n",
    "ys = np.linspace(0, y_max, 250)\n",
    "zs = np.linspace(0, z_max, 100)\n",
    "grid_x, grid_y, grid_z = np.meshgrid(xs, ys, zs)\n",
    "\n",
    "interpolated = griddata(\n",
    "    points, lab_results[\"azimuth_delta\"], (grid_x, grid_y, grid_z), method=\"linear\"\n",
    ")\n",
    "\n",
    "fig = plt.figure()\n",
    "ax = fig.add_subplot(projection=\"3d\")\n",
    "colorbar_added = False\n",
    "\n",
    "\n",
    "def animate(idx_z):\n",
    "    global colorbar_added\n",
    "    z_idx, z = idx_z\n",
    "    ax.cla()\n",
    "    ax.set_xlim3d(0, x_max)\n",
    "    ax.set_ylim3d(0, y_max)\n",
    "    ax.set_zlim3d(0, z_max)\n",
    "    ax.set_box_aspect((x_max, y_max, z_max))\n",
    "    if z_idx > 1:\n",
    "        ax.contourf(\n",
    "            grid_x[0, :, : z_idx + 1],\n",
    "            interpolated[0, :, : z_idx + 1],\n",
    "            grid_z[0, :, : z_idx + 1],\n",
    "            zdir=\"y\",\n",
    "            offset=0,\n",
    "            cmap=\"viridis\",\n",
    "        )\n",
    "        ax.contourf(\n",
    "            interpolated[:, -1, : z_idx + 1],\n",
    "            grid_y[:, -1, : z_idx + 1],\n",
    "            grid_z[:, -1, : z_idx + 1],\n",
    "            zdir=\"x\",\n",
    "            offset=x_max,\n",
    "            cmap=\"viridis\",\n",
    "        )\n",
    "\n",
    "    img = ax.contourf(\n",
    "        grid_x[:, :, 0],\n",
    "        grid_y[:, :, 0],\n",
    "        interpolated[:, :, z_idx],\n",
    "        zdir=\"z\",\n",
    "        offset=z,\n",
    "        vmin=0,\n",
    "        vmax=180,\n",
    "        extent=(0, x_max, 0, y_max),\n",
    "        origin=\"lower\",\n",
    "        cmap=\"viridis\",\n",
    "    )\n",
    "    if not colorbar_added:\n",
    "        colorbar_added = True\n",
    "        plt.colorbar(img, ax=ax)\n",
    "\n",
    "    return img.collections\n",
    "\n",
    "\n",
    "anim = FuncAnimation(fig, animate, enumerate(zs))\n",
    "\n",
    "anim.save(\"error_slice.gif\", fps=30, dpi=300)"
   ]
  }
 ],
 "metadata": {
  "kernelspec": {
   "display_name": "Python 3.9.12 ('venv': venv)",
   "language": "python",
   "name": "python3"
  },
  "language_info": {
   "codemirror_mode": {
    "name": "ipython",
    "version": 3
   },
   "file_extension": ".py",
   "mimetype": "text/x-python",
   "name": "python",
   "nbconvert_exporter": "python",
   "pygments_lexer": "ipython3",
   "version": "3.9.12"
  },
  "orig_nbformat": 4,
  "vscode": {
   "interpreter": {
    "hash": "f6302f2b435fcd2fbf16e20718a5eac0363e712eb65131d09ad595600064fbce"
   }
  }
 },
 "nbformat": 4,
 "nbformat_minor": 2
}
